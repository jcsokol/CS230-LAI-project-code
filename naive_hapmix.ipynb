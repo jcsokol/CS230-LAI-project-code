{
 "cells": [
  {
   "cell_type": "code",
   "execution_count": 1,
   "metadata": {
    "collapsed": true
   },
   "outputs": [],
   "source": [
    "import numpy as np\n",
    "import scipy.stats as ss\n",
    "import matplotlib.pyplot as plt\n",
    "%matplotlib inline"
   ]
  },
  {
   "cell_type": "code",
   "execution_count": 4,
   "metadata": {},
   "outputs": [
    {
     "data": {
      "text/plain": [
       "(2500, 100000)"
      ]
     },
     "execution_count": 4,
     "metadata": {},
     "output_type": "execute_result"
    }
   ],
   "source": [
    "# simulate some data which is just the \"ancestry\" label (5 classes)\n",
    "l=1e5 # genome length\n",
    "n=2500 # number of samples to start with\n",
    "m=10000 # number of samples to generate\n",
    "data=np.array([[(i % 5) for _ in range(int(l))] for i in range(int(n))])\n",
    "data.shape"
   ]
  },
  {
   "cell_type": "code",
   "execution_count": 5,
   "metadata": {},
   "outputs": [],
   "source": [
    "# take number of ancestors as Pois(2.86 * generation_time), over 1-10 generations\n",
    "maxgen=10\n",
    "n_splits=2+np.hstack([ss.poisson.rvs(2.86*gen, size=1000//maxgen) for gen in range(1,maxgen)])\n",
    "# new individuals\n",
    "new=[]\n",
    "for j in n_splits:\n",
    "    if j==0:\n",
    "        new.append(list(data[np.random.choice(np.arange(n), size=1),:]))\n",
    "    # sample breakpoints uniformly\n",
    "    breaks=np.sort(l * ss.beta.rvs(a=1, b=1, size=j)).astype(int)\n",
    "    # pick founders uniformly at random without replacement and stitch their labels together\n",
    "    founds=np.random.choice(np.arange(n), size=j+1, replace=False)\n",
    "    new.append(list(data[founds[0],:breaks[0]]))\n",
    "    for i,found in enumerate(founds[1:-1]):\n",
    "        new[-1]+=list(data[found, breaks[i]:breaks[i+1]])\n",
    "    new[-1]+=list(data[founds[-1], breaks[-1]:])\n",
    "# done!\n",
    "data=np.vstack((data,np.array(new)))"
   ]
  },
  {
   "cell_type": "code",
   "execution_count": null,
   "metadata": {},
   "outputs": [],
   "source": [
    "# plot ancestry fractions\n",
    "plt.figure(figsize=(8,8))\n",
    "plt.imshow(np.vstack((np.sort(data[:250,:], axis=0), np.sort(data[250:,:]))), aspect='auto')\n",
    "plt.xlabel('ancestry fraction'); plt.ylabel('sample');"
   ]
  },
  {
   "cell_type": "code",
   "execution_count": null,
   "metadata": {},
   "outputs": [],
   "source": [
    "# plot \"local ancestry\"\n",
    "plt.figure(figsize=(12,4))\n",
    "plt.imshow(data[245:275,:], aspect='auto')\n",
    "plt.xlabel('genomic position'); plt.ylabel('sample');"
   ]
  },
  {
   "cell_type": "code",
   "execution_count": null,
   "metadata": {},
   "outputs": [],
   "source": [
    "# and counts of breakpoints across pseudo-individuals\n",
    "plt.hist(n_splits, bins=len(np.unique(n_splits))//2)\n",
    "plt.xlabel('switch count'); plt.ylabel('number of generated samples');"
   ]
  },
  {
   "cell_type": "code",
   "execution_count": null,
   "metadata": {
    "collapsed": true
   },
   "outputs": [],
   "source": []
  }
 ],
 "metadata": {
  "kernelspec": {
   "display_name": "Python 3",
   "language": "python",
   "name": "python3"
  },
  "language_info": {
   "codemirror_mode": {
    "name": "ipython",
    "version": 3
   },
   "file_extension": ".py",
   "mimetype": "text/x-python",
   "name": "python",
   "nbconvert_exporter": "python",
   "pygments_lexer": "ipython3",
   "version": "3.6.9"
  }
 },
 "nbformat": 4,
 "nbformat_minor": 2
}
