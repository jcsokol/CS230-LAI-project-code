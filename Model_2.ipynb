{
 "cells": [
  {
   "cell_type": "markdown",
   "metadata": {},
   "source": [
    "## Load packages"
   ]
  },
  {
   "cell_type": "code",
   "execution_count": 1,
   "metadata": {},
   "outputs": [
    {
     "name": "stderr",
     "output_type": "stream",
     "text": [
      "Using TensorFlow backend.\n",
      "/home/magu/.local/lib/python3.6/site-packages/tensorflow/python/framework/dtypes.py:469: FutureWarning: Passing (type, 1) or '1type' as a synonym of type is deprecated; in a future version of numpy, it will be understood as (type, (1,)) / '(1,)type'.\n",
      "  _np_qint8 = np.dtype([(\"qint8\", np.int8, 1)])\n",
      "/home/magu/.local/lib/python3.6/site-packages/tensorflow/python/framework/dtypes.py:470: FutureWarning: Passing (type, 1) or '1type' as a synonym of type is deprecated; in a future version of numpy, it will be understood as (type, (1,)) / '(1,)type'.\n",
      "  _np_quint8 = np.dtype([(\"quint8\", np.uint8, 1)])\n",
      "/home/magu/.local/lib/python3.6/site-packages/tensorflow/python/framework/dtypes.py:471: FutureWarning: Passing (type, 1) or '1type' as a synonym of type is deprecated; in a future version of numpy, it will be understood as (type, (1,)) / '(1,)type'.\n",
      "  _np_qint16 = np.dtype([(\"qint16\", np.int16, 1)])\n",
      "/home/magu/.local/lib/python3.6/site-packages/tensorflow/python/framework/dtypes.py:472: FutureWarning: Passing (type, 1) or '1type' as a synonym of type is deprecated; in a future version of numpy, it will be understood as (type, (1,)) / '(1,)type'.\n",
      "  _np_quint16 = np.dtype([(\"quint16\", np.uint16, 1)])\n",
      "/home/magu/.local/lib/python3.6/site-packages/tensorflow/python/framework/dtypes.py:473: FutureWarning: Passing (type, 1) or '1type' as a synonym of type is deprecated; in a future version of numpy, it will be understood as (type, (1,)) / '(1,)type'.\n",
      "  _np_qint32 = np.dtype([(\"qint32\", np.int32, 1)])\n",
      "/home/magu/.local/lib/python3.6/site-packages/tensorflow/python/framework/dtypes.py:476: FutureWarning: Passing (type, 1) or '1type' as a synonym of type is deprecated; in a future version of numpy, it will be understood as (type, (1,)) / '(1,)type'.\n",
      "  np_resource = np.dtype([(\"resource\", np.ubyte, 1)])\n",
      "/usr/lib/python3.6/importlib/_bootstrap.py:219: RuntimeWarning: compiletime version 3.5 of module 'tensorflow.python.framework.fast_tensor_util' does not match runtime version 3.6\n",
      "  return f(*args, **kwds)\n"
     ]
    }
   ],
   "source": [
    "import numpy as np\n",
    "import pandas as pd\n",
    "import math\n",
    "from keras import layers\n",
    "from keras.layers import Input, Dense, Activation, ZeroPadding1D, BatchNormalization, Flatten, Conv1D\n",
    "from keras.layers import AveragePooling1D, MaxPooling1D, Dropout, GlobalMaxPooling2D, GlobalAveragePooling2D\n",
    "from keras.models import Model\n",
    "from keras.preprocessing import image\n",
    "from keras.utils import layer_utils\n",
    "from keras.utils.data_utils import get_file\n",
    "from keras.applications.imagenet_utils import preprocess_input\n",
    "from IPython.display import SVG\n",
    "from keras.utils.vis_utils import model_to_dot\n",
    "from keras.utils import plot_model\n",
    "# from kt_utils import *\n",
    "\n",
    "import keras.backend as K\n",
    "K.set_image_data_format('channels_last')\n",
    "import matplotlib.pyplot as plt\n",
    "from matplotlib.pyplot import imshow\n",
    "from sklearn.preprocessing import OneHotEncoder\n",
    "from sklearn.metrics import multilabel_confusion_matrix\n",
    "\n",
    "%matplotlib inline"
   ]
  },
  {
   "cell_type": "code",
   "execution_count": 2,
   "metadata": {},
   "outputs": [],
   "source": [
    "# set number of cores to 8\n",
    "K.set_session(K.tf.Session(config=K.tf.ConfigProto(intra_op_parallelism_threads=8, \n",
    "                                                   inter_op_parallelism_threads=8)))"
   ]
  },
  {
   "cell_type": "markdown",
   "metadata": {},
   "source": [
    "## Load dataset"
   ]
  },
  {
   "cell_type": "code",
   "execution_count": 3,
   "metadata": {},
   "outputs": [],
   "source": [
    "# import Matt's 'chr1_ukb_X.npz' file\n",
    "chr1_ukb_X = np.load('/home/magu/deepmix/data/ALL_DNA_dataset/chr1_1kg_X.npz')\n",
    "# create dict mapping from sampleid to superpopulation\n",
    "sampleid_to_superpopulation_pandas_df = pd.read_csv('/home/jsokol/Data/igsr_samples.tsv', delimiter=\"\\t\")\n",
    "sampleid_to_superpopulation_dict = sampleid_to_superpopulation_pandas_df.set_index('Sample name')['Superpopulation code'].to_dict()\n",
    "# remove samples from chr1_ukb_X that are not in dict or that do no contain value\n",
    "temp = set()\n",
    "for x in np.nditer(chr1_ukb_X['S']):\n",
    "    sample_id = str((x.item(0))).replace(\"'\", \"\").replace(\"b\", \"\").split(\"_\")[0]\n",
    "    if sample_id not in sampleid_to_superpopulation_dict:\n",
    "        print(sample_id + ' is not in dict. Make sure to remove this sample from the dataset.')\n",
    "    elif sampleid_to_superpopulation_dict[sample_id] == float('nan'):\n",
    "        print(sample_id + ' maps to nan in dict')\n",
    "chr1_ukb_X_G = chr1_ukb_X['G'][:,:,:]\n",
    "chr1_ukb_X_V = chr1_ukb_X['V'][:,:]"
   ]
  },
  {
   "cell_type": "code",
   "execution_count": 4,
   "metadata": {},
   "outputs": [],
   "source": [
    "# define number of classes\n",
    "classes = [0, 1, 2, 3, 4]\n",
    "# flatten input data\n",
    "X_all_data = chr1_ukb_X_G.reshape(chr1_ukb_X_G.shape[0], -1).T"
   ]
  },
  {
   "cell_type": "code",
   "execution_count": 5,
   "metadata": {},
   "outputs": [],
   "source": [
    "# one hot encode labels\n",
    "Y_all_data = np.zeros((5, 5008))\n",
    "keep=set(range(5008))\n",
    "for i in range(5008):\n",
    "    sample_id = str(chr1_ukb_X['S'][i].item(0)).replace(\"'\", \"\").replace(\"b\", \"\").split(\"_\")[0]\n",
    "    if sampleid_to_superpopulation_dict[sample_id] == 'AFR':\n",
    "        Y_all_data[0,i] = 1\n",
    "    elif sampleid_to_superpopulation_dict[sample_id] == 'AMR':\n",
    "        Y_all_data[4,i] = 1\n",
    "    elif sampleid_to_superpopulation_dict[sample_id] == 'EAS':\n",
    "        Y_all_data[1,i] = 1\n",
    "    elif sampleid_to_superpopulation_dict[sample_id] == 'EUR':\n",
    "        Y_all_data[2,i] = 1\n",
    "    elif sampleid_to_superpopulation_dict[sample_id] == 'SAS':\n",
    "        Y_all_data[3,i] = 1\n",
    "    else:\n",
    "        keep.remove(i)\n",
    "X_all_data=X_all_data[:,np.array(list(keep))]\n",
    "        "
   ]
  },
  {
   "cell_type": "code",
   "execution_count": 6,
   "metadata": {},
   "outputs": [],
   "source": [
    "# randomly shuffle the order of the data\n",
    "randomize = np.arange(X_all_data.shape[1])\n",
    "np.random.shuffle(randomize)\n",
    "X_all_data = X_all_data[:,randomize]\n",
    "Y_all_data = Y_all_data[:,randomize]"
   ]
  },
  {
   "cell_type": "code",
   "execution_count": 7,
   "metadata": {},
   "outputs": [],
   "source": [
    "# split data into training and test sets\n",
    "ntrain=3000\n",
    "X_train = X_all_data[:,:ntrain]\n",
    "X_test = X_all_data[:,ntrain:]\n",
    "Y_train = Y_all_data[:,:ntrain]\n",
    "Y_test = Y_all_data[:,ntrain:]\n",
    "# convert to correct format for use in keras\n",
    "X_train = X_train[:,:,np.newaxis]\n",
    "X_train = np.transpose(X_train, (1, 0, 2))\n",
    "X_test = X_test[:,:,np.newaxis]\n",
    "X_test = np.transpose(X_test, (1, 0, 2))\n",
    "Y_train = np.transpose(Y_train, (1, 0))\n",
    "Y_test = np.transpose(Y_test, (1, 0))"
   ]
  },
  {
   "cell_type": "markdown",
   "metadata": {},
   "source": [
    "## Build model"
   ]
  },
  {
   "cell_type": "code",
   "execution_count": 8,
   "metadata": {},
   "outputs": [],
   "source": [
    "def model2(n_snps_per_sample):\n",
    "    \"\"\"\n",
    "    input_shape: The height, width and channels as a tuple.  \n",
    "        Note that this does not include the 'batch' as a dimension.\n",
    "        If you have a batch like 'X_train', \n",
    "        then you can provide the input_shape using\n",
    "        X_train.shape[1:]\n",
    "    \"\"\"\n",
    "    \n",
    "    # Define the input placeholder as a tensor with shape input_shape. Think of this as your input image!\n",
    "    X_input = Input(shape=(n_snps_per_sample, 1))\n",
    "\n",
    "    # First convolutional block\n",
    "    X = Conv1D(filters=49, kernel_size=500 ,strides=500, padding = 'valid', name = 'conv0')(X_input)\n",
    "    X = BatchNormalization(axis = -1, name = 'bn0')(X)\n",
    "    X = Activation('relu')(X)\n",
    "\n",
    "    # Second convolutional block\n",
    "    X = Conv1D(49, 75, strides = 5, padding = 'same', name = 'conv1')(X)\n",
    "    X = BatchNormalization(axis = -1, name = 'bn1')(X)\n",
    "    X = Activation('relu')(X)\n",
    "    \n",
    "    # MAXPOOL\n",
    "    X = MaxPooling1D(2, name='max_pool')(X)\n",
    "\n",
    "    # FLATTEN X (means convert it to a vector) + FULLYCONNECTED\n",
    "    X = Flatten()(X)\n",
    "    X = Dense(5, activation='softmax', name='fc')(X)\n",
    "\n",
    "    # Create model. This creates your Keras model instance, you'll use this instance to train/test the model.\n",
    "    model = Model(inputs = X_input, outputs = X, name='model2')\n",
    "    \n",
    "    return model"
   ]
  },
  {
   "cell_type": "markdown",
   "metadata": {},
   "source": [
    "## Create and compile the model "
   ]
  },
  {
   "cell_type": "code",
   "execution_count": 9,
   "metadata": {},
   "outputs": [
    {
     "name": "stdout",
     "output_type": "stream",
     "text": [
      "(3000, 231504, 1) (3000, 5)\n"
     ]
    }
   ],
   "source": [
    "print(X_train.shape, Y_train.shape)"
   ]
  },
  {
   "cell_type": "code",
   "execution_count": 10,
   "metadata": {},
   "outputs": [
    {
     "name": "stdout",
     "output_type": "stream",
     "text": [
      "_________________________________________________________________\n",
      "Layer (type)                 Output Shape              Param #   \n",
      "=================================================================\n",
      "input_1 (InputLayer)         (None, 231504, 1)         0         \n",
      "_________________________________________________________________\n",
      "conv0 (Conv1D)               (None, 463, 49)           24549     \n",
      "_________________________________________________________________\n",
      "bn0 (BatchNormalization)     (None, 463, 49)           196       \n",
      "_________________________________________________________________\n",
      "activation_1 (Activation)    (None, 463, 49)           0         \n",
      "_________________________________________________________________\n",
      "conv1 (Conv1D)               (None, 93, 49)            180124    \n",
      "_________________________________________________________________\n",
      "bn1 (BatchNormalization)     (None, 93, 49)            196       \n",
      "_________________________________________________________________\n",
      "activation_2 (Activation)    (None, 93, 49)            0         \n",
      "_________________________________________________________________\n",
      "max_pool (MaxPooling1D)      (None, 46, 49)            0         \n",
      "_________________________________________________________________\n",
      "flatten_1 (Flatten)          (None, 2254)              0         \n",
      "_________________________________________________________________\n",
      "fc (Dense)                   (None, 5)                 11275     \n",
      "=================================================================\n",
      "Total params: 216,340\n",
      "Trainable params: 216,144\n",
      "Non-trainable params: 196\n",
      "_________________________________________________________________\n"
     ]
    }
   ],
   "source": [
    "# create model\n",
    "model = model2(X_train.shape[1])\n",
    "# compile model\n",
    "model.compile(optimizer='sgd', loss='categorical_crossentropy', metrics=['accuracy'])\n",
    "# summarize model\n",
    "model.summary()"
   ]
  },
  {
   "cell_type": "markdown",
   "metadata": {},
   "source": [
    "## Train model"
   ]
  },
  {
   "cell_type": "code",
   "execution_count": 11,
   "metadata": {},
   "outputs": [
    {
     "name": "stdout",
     "output_type": "stream",
     "text": [
      "Epoch 1/6\n",
      "3000/3000 [==============================] - 12s 4ms/step - loss: 3.6027 - acc: 0.6573\n",
      "Epoch 2/6\n",
      "3000/3000 [==============================] - 12s 4ms/step - loss: 2.2153 - acc: 0.8630\n",
      "Epoch 3/6\n",
      "3000/3000 [==============================] - 12s 4ms/step - loss: 2.2076 - acc: 0.8630\n",
      "Epoch 4/6\n",
      "3000/3000 [==============================] - 12s 4ms/step - loss: 2.2033 - acc: 0.8637\n",
      "Epoch 5/6\n",
      "3000/3000 [==============================] - 13s 4ms/step - loss: 2.2009 - acc: 0.8640\n",
      "Epoch 6/6\n",
      "3000/3000 [==============================] - 12s 4ms/step - loss: 2.1995 - acc: 0.8640\n"
     ]
    }
   ],
   "source": [
    "history=model.fit(X_train, Y_train, epochs = 6, batch_size = 128)"
   ]
  },
  {
   "cell_type": "markdown",
   "metadata": {},
   "source": [
    "## Evaluate model"
   ]
  },
  {
   "cell_type": "code",
   "execution_count": 12,
   "metadata": {},
   "outputs": [
    {
     "data": {
      "text/plain": [
       "Text(0.5, 1.0, 'Loss')"
      ]
     },
     "execution_count": 12,
     "metadata": {},
     "output_type": "execute_result"
    },
    {
     "data": {
      "image/png": "[encoded data removed]",
      "text/plain": [
       "<Figure size 432x288 with 1 Axes>"
      ]
     },
     "metadata": {
      "needs_background": "light"
     },
     "output_type": "display_data"
    }
   ],
   "source": [
    "plt.plot(history.history['loss'], label='train')\n",
    "plt.title('Loss')"
   ]
  },
  {
   "cell_type": "code",
   "execution_count": 13,
   "metadata": {},
   "outputs": [
    {
     "name": "stdout",
     "output_type": "stream",
     "text": [
      "\n",
      "# Evaluate on test data\n",
      "2008/2008 [==============================] - 8s 4ms/step\n",
      "test loss, test acc: [2.314299973134339, 0.8555776892430279]\n"
     ]
    }
   ],
   "source": [
    "print('\\n# Evaluate on test data')\n",
    "results = model.evaluate(X_test, Y_test, batch_size=1)\n",
    "print('test loss, test acc:', results)"
   ]
  },
  {
   "cell_type": "code",
   "execution_count": 14,
   "metadata": {},
   "outputs": [
    {
     "name": "stdout",
     "output_type": "stream",
     "text": [
      "[[[1469    4]\n",
      "  [  19  516]]\n",
      "\n",
      " [[1558    0]\n",
      "  [  54  396]]\n",
      "\n",
      " [[1424    0]\n",
      "  [ 191  393]]\n",
      "\n",
      " [[1569    0]\n",
      "  [  26  413]]\n",
      "\n",
      " [[1722  286]\n",
      "  [   0    0]]]\n"
     ]
    }
   ],
   "source": [
    "test_Y_hat=model.predict(X_test)\n",
    "print(multilabel_confusion_matrix(np.argmax(test_Y_hat, axis=-1).flatten(), \n",
    "                                  np.argmax(Y_test, axis=-1).flatten()))"
   ]
  },
  {
   "cell_type": "code",
   "execution_count": null,
   "metadata": {},
   "outputs": [],
   "source": [
    "# weird finding: this seems to work _very_ well if we include AMR\n",
    "# but not at all if we don't"
   ]
  }
 ],
 "metadata": {
  "kernelspec": {
   "display_name": "Python 3",
   "language": "python",
   "name": "python3"
  },
  "language_info": {
   "codemirror_mode": {
    "name": "ipython",
    "version": 3
   },
   "file_extension": ".py",
   "mimetype": "text/x-python",
   "name": "python",
   "nbconvert_exporter": "python",
   "pygments_lexer": "ipython3",
   "version": "3.6.9"
  }
 },
 "nbformat": 4,
 "nbformat_minor": 2
}
